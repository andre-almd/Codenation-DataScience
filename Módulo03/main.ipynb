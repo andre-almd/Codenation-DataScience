{
 "cells": [
  {
   "cell_type": "markdown",
   "metadata": {},
   "source": [
    "### Imports necessários"
   ]
  },
  {
   "cell_type": "code",
   "execution_count": 39,
   "metadata": {},
   "outputs": [],
   "source": [
    "import pandas as pd\n",
    "import json"
   ]
  },
  {
   "cell_type": "code",
   "execution_count": 40,
   "metadata": {},
   "outputs": [],
   "source": [
    "# Carregando o dataset\n",
    "\n",
    "df = pd.read_csv('desafio1.csv')"
   ]
  },
  {
   "cell_type": "code",
   "execution_count": 41,
   "metadata": {},
   "outputs": [
    {
     "data": {
      "text/html": [
       "<div>\n",
       "<style scoped>\n",
       "    .dataframe tbody tr th:only-of-type {\n",
       "        vertical-align: middle;\n",
       "    }\n",
       "\n",
       "    .dataframe tbody tr th {\n",
       "        vertical-align: top;\n",
       "    }\n",
       "\n",
       "    .dataframe thead th {\n",
       "        text-align: right;\n",
       "    }\n",
       "</style>\n",
       "<table border=\"1\" class=\"dataframe\">\n",
       "  <thead>\n",
       "    <tr style=\"text-align: right;\">\n",
       "      <th></th>\n",
       "      <th>RowNumber</th>\n",
       "      <th>id</th>\n",
       "      <th>sobrenome</th>\n",
       "      <th>pontuacao_credito</th>\n",
       "      <th>estado_residencia</th>\n",
       "      <th>genero</th>\n",
       "      <th>idade</th>\n",
       "      <th>nivel_estabilidade</th>\n",
       "      <th>saldo_conta</th>\n",
       "      <th>numero_produtos</th>\n",
       "      <th>possui_cartao_de_credito</th>\n",
       "      <th>membro_ativo</th>\n",
       "    </tr>\n",
       "  </thead>\n",
       "  <tbody>\n",
       "    <tr>\n",
       "      <th>0</th>\n",
       "      <td>1</td>\n",
       "      <td>e7f44fcbd380d4cef7e6c232cc7e37895c3fd197</td>\n",
       "      <td>6d6e0aa1b9b413e442e2fb68df14b4fc3f91de50</td>\n",
       "      <td>619</td>\n",
       "      <td>SC</td>\n",
       "      <td>F</td>\n",
       "      <td>42</td>\n",
       "      <td>2</td>\n",
       "      <td>0.00</td>\n",
       "      <td>1</td>\n",
       "      <td>1</td>\n",
       "      <td>1</td>\n",
       "    </tr>\n",
       "    <tr>\n",
       "      <th>1</th>\n",
       "      <td>2</td>\n",
       "      <td>28dcb083ad90512da16b9430085c2cddb8ca5e12</td>\n",
       "      <td>48e1ad846796fa314f1b4a6702b83343eb5482c5</td>\n",
       "      <td>608</td>\n",
       "      <td>RS</td>\n",
       "      <td>F</td>\n",
       "      <td>41</td>\n",
       "      <td>1</td>\n",
       "      <td>83807.86</td>\n",
       "      <td>1</td>\n",
       "      <td>0</td>\n",
       "      <td>1</td>\n",
       "    </tr>\n",
       "    <tr>\n",
       "      <th>2</th>\n",
       "      <td>3</td>\n",
       "      <td>774bc378f787438c9c7594e536787d07a097a54b</td>\n",
       "      <td>f2b29d5d934de615812b697132e767dea0f1e9e2</td>\n",
       "      <td>502</td>\n",
       "      <td>SC</td>\n",
       "      <td>F</td>\n",
       "      <td>42</td>\n",
       "      <td>8</td>\n",
       "      <td>159660.80</td>\n",
       "      <td>3</td>\n",
       "      <td>1</td>\n",
       "      <td>0</td>\n",
       "    </tr>\n",
       "    <tr>\n",
       "      <th>3</th>\n",
       "      <td>4</td>\n",
       "      <td>043a71326f7096de155e7f0c559dc62b5e4b7239</td>\n",
       "      <td>85d5c9da7cddd8109ad32a6c348fe2bb10bf99f2</td>\n",
       "      <td>699</td>\n",
       "      <td>SC</td>\n",
       "      <td>F</td>\n",
       "      <td>39</td>\n",
       "      <td>1</td>\n",
       "      <td>0.00</td>\n",
       "      <td>2</td>\n",
       "      <td>0</td>\n",
       "      <td>0</td>\n",
       "    </tr>\n",
       "    <tr>\n",
       "      <th>4</th>\n",
       "      <td>5</td>\n",
       "      <td>37b3bb8ca243955fb3605ec7e1c2a4607cdb3b22</td>\n",
       "      <td>ddc89c837a6933639de75f28171057060bd322df</td>\n",
       "      <td>850</td>\n",
       "      <td>RS</td>\n",
       "      <td>F</td>\n",
       "      <td>43</td>\n",
       "      <td>2</td>\n",
       "      <td>125510.82</td>\n",
       "      <td>1</td>\n",
       "      <td>1</td>\n",
       "      <td>1</td>\n",
       "    </tr>\n",
       "  </tbody>\n",
       "</table>\n",
       "</div>"
      ],
      "text/plain": [
       "   RowNumber                                        id  \\\n",
       "0          1  e7f44fcbd380d4cef7e6c232cc7e37895c3fd197   \n",
       "1          2  28dcb083ad90512da16b9430085c2cddb8ca5e12   \n",
       "2          3  774bc378f787438c9c7594e536787d07a097a54b   \n",
       "3          4  043a71326f7096de155e7f0c559dc62b5e4b7239   \n",
       "4          5  37b3bb8ca243955fb3605ec7e1c2a4607cdb3b22   \n",
       "\n",
       "                                  sobrenome  pontuacao_credito  \\\n",
       "0  6d6e0aa1b9b413e442e2fb68df14b4fc3f91de50                619   \n",
       "1  48e1ad846796fa314f1b4a6702b83343eb5482c5                608   \n",
       "2  f2b29d5d934de615812b697132e767dea0f1e9e2                502   \n",
       "3  85d5c9da7cddd8109ad32a6c348fe2bb10bf99f2                699   \n",
       "4  ddc89c837a6933639de75f28171057060bd322df                850   \n",
       "\n",
       "  estado_residencia genero  idade  nivel_estabilidade  saldo_conta  \\\n",
       "0                SC      F     42                   2         0.00   \n",
       "1                RS      F     41                   1     83807.86   \n",
       "2                SC      F     42                   8    159660.80   \n",
       "3                SC      F     39                   1         0.00   \n",
       "4                RS      F     43                   2    125510.82   \n",
       "\n",
       "   numero_produtos  possui_cartao_de_credito  membro_ativo  \n",
       "0                1                         1             1  \n",
       "1                1                         0             1  \n",
       "2                3                         1             0  \n",
       "3                2                         0             0  \n",
       "4                1                         1             1  "
      ]
     },
     "execution_count": 41,
     "metadata": {},
     "output_type": "execute_result"
    }
   ],
   "source": [
    "df.head()"
   ]
  },
  {
   "cell_type": "code",
   "execution_count": 42,
   "metadata": {},
   "outputs": [
    {
     "data": {
      "text/html": [
       "<div>\n",
       "<style scoped>\n",
       "    .dataframe tbody tr th:only-of-type {\n",
       "        vertical-align: middle;\n",
       "    }\n",
       "\n",
       "    .dataframe tbody tr th {\n",
       "        vertical-align: top;\n",
       "    }\n",
       "\n",
       "    .dataframe thead th {\n",
       "        text-align: right;\n",
       "    }\n",
       "</style>\n",
       "<table border=\"1\" class=\"dataframe\">\n",
       "  <thead>\n",
       "    <tr style=\"text-align: right;\">\n",
       "      <th></th>\n",
       "      <th>RowNumber</th>\n",
       "      <th>pontuacao_credito</th>\n",
       "      <th>idade</th>\n",
       "      <th>nivel_estabilidade</th>\n",
       "      <th>saldo_conta</th>\n",
       "      <th>numero_produtos</th>\n",
       "      <th>possui_cartao_de_credito</th>\n",
       "      <th>membro_ativo</th>\n",
       "    </tr>\n",
       "  </thead>\n",
       "  <tbody>\n",
       "    <tr>\n",
       "      <th>count</th>\n",
       "      <td>7000.000000</td>\n",
       "      <td>7000.000000</td>\n",
       "      <td>7000.000000</td>\n",
       "      <td>7000.000000</td>\n",
       "      <td>7000.000000</td>\n",
       "      <td>7000.000000</td>\n",
       "      <td>7000.000000</td>\n",
       "      <td>7000.000000</td>\n",
       "    </tr>\n",
       "    <tr>\n",
       "      <th>mean</th>\n",
       "      <td>3500.500000</td>\n",
       "      <td>649.787000</td>\n",
       "      <td>38.892714</td>\n",
       "      <td>5.010286</td>\n",
       "      <td>76471.883751</td>\n",
       "      <td>1.526000</td>\n",
       "      <td>0.703286</td>\n",
       "      <td>0.512143</td>\n",
       "    </tr>\n",
       "    <tr>\n",
       "      <th>std</th>\n",
       "      <td>2020.870275</td>\n",
       "      <td>97.046279</td>\n",
       "      <td>10.465562</td>\n",
       "      <td>2.887500</td>\n",
       "      <td>62403.383911</td>\n",
       "      <td>0.583047</td>\n",
       "      <td>0.456842</td>\n",
       "      <td>0.499888</td>\n",
       "    </tr>\n",
       "    <tr>\n",
       "      <th>min</th>\n",
       "      <td>1.000000</td>\n",
       "      <td>350.000000</td>\n",
       "      <td>18.000000</td>\n",
       "      <td>0.000000</td>\n",
       "      <td>0.000000</td>\n",
       "      <td>1.000000</td>\n",
       "      <td>0.000000</td>\n",
       "      <td>0.000000</td>\n",
       "    </tr>\n",
       "    <tr>\n",
       "      <th>25%</th>\n",
       "      <td>1750.750000</td>\n",
       "      <td>582.000000</td>\n",
       "      <td>32.000000</td>\n",
       "      <td>3.000000</td>\n",
       "      <td>0.000000</td>\n",
       "      <td>1.000000</td>\n",
       "      <td>0.000000</td>\n",
       "      <td>0.000000</td>\n",
       "    </tr>\n",
       "    <tr>\n",
       "      <th>50%</th>\n",
       "      <td>3500.500000</td>\n",
       "      <td>651.000000</td>\n",
       "      <td>37.000000</td>\n",
       "      <td>5.000000</td>\n",
       "      <td>97277.130000</td>\n",
       "      <td>1.000000</td>\n",
       "      <td>1.000000</td>\n",
       "      <td>1.000000</td>\n",
       "    </tr>\n",
       "    <tr>\n",
       "      <th>75%</th>\n",
       "      <td>5250.250000</td>\n",
       "      <td>717.000000</td>\n",
       "      <td>44.000000</td>\n",
       "      <td>7.250000</td>\n",
       "      <td>127537.155000</td>\n",
       "      <td>2.000000</td>\n",
       "      <td>1.000000</td>\n",
       "      <td>1.000000</td>\n",
       "    </tr>\n",
       "    <tr>\n",
       "      <th>max</th>\n",
       "      <td>7000.000000</td>\n",
       "      <td>850.000000</td>\n",
       "      <td>92.000000</td>\n",
       "      <td>10.000000</td>\n",
       "      <td>250898.090000</td>\n",
       "      <td>4.000000</td>\n",
       "      <td>1.000000</td>\n",
       "      <td>1.000000</td>\n",
       "    </tr>\n",
       "  </tbody>\n",
       "</table>\n",
       "</div>"
      ],
      "text/plain": [
       "         RowNumber  pontuacao_credito        idade  nivel_estabilidade  \\\n",
       "count  7000.000000        7000.000000  7000.000000         7000.000000   \n",
       "mean   3500.500000         649.787000    38.892714            5.010286   \n",
       "std    2020.870275          97.046279    10.465562            2.887500   \n",
       "min       1.000000         350.000000    18.000000            0.000000   \n",
       "25%    1750.750000         582.000000    32.000000            3.000000   \n",
       "50%    3500.500000         651.000000    37.000000            5.000000   \n",
       "75%    5250.250000         717.000000    44.000000            7.250000   \n",
       "max    7000.000000         850.000000    92.000000           10.000000   \n",
       "\n",
       "         saldo_conta  numero_produtos  possui_cartao_de_credito  membro_ativo  \n",
       "count    7000.000000      7000.000000               7000.000000   7000.000000  \n",
       "mean    76471.883751         1.526000                  0.703286      0.512143  \n",
       "std     62403.383911         0.583047                  0.456842      0.499888  \n",
       "min         0.000000         1.000000                  0.000000      0.000000  \n",
       "25%         0.000000         1.000000                  0.000000      0.000000  \n",
       "50%     97277.130000         1.000000                  1.000000      1.000000  \n",
       "75%    127537.155000         2.000000                  1.000000      1.000000  \n",
       "max    250898.090000         4.000000                  1.000000      1.000000  "
      ]
     },
     "execution_count": 42,
     "metadata": {},
     "output_type": "execute_result"
    }
   ],
   "source": [
    "# Observando o descritivo do dados\n",
    "df.describe()"
   ]
  },
  {
   "cell_type": "code",
   "execution_count": 43,
   "metadata": {},
   "outputs": [
    {
     "data": {
      "text/plain": [
       "RowNumber                     int64\n",
       "id                           object\n",
       "sobrenome                    object\n",
       "pontuacao_credito             int64\n",
       "estado_residencia            object\n",
       "genero                       object\n",
       "idade                         int64\n",
       "nivel_estabilidade            int64\n",
       "saldo_conta                 float64\n",
       "numero_produtos               int64\n",
       "possui_cartao_de_credito      int64\n",
       "membro_ativo                  int64\n",
       "dtype: object"
      ]
     },
     "execution_count": 43,
     "metadata": {},
     "output_type": "execute_result"
    }
   ],
   "source": [
    "df.dtypes"
   ]
  },
  {
   "cell_type": "code",
   "execution_count": 44,
   "metadata": {},
   "outputs": [
    {
     "data": {
      "text/plain": [
       "Index(['RowNumber', 'id', 'sobrenome', 'pontuacao_credito',\n",
       "       'estado_residencia', 'genero', 'idade', 'nivel_estabilidade',\n",
       "       'saldo_conta', 'numero_produtos', 'possui_cartao_de_credito',\n",
       "       'membro_ativo'],\n",
       "      dtype='object')"
      ]
     },
     "execution_count": 44,
     "metadata": {},
     "output_type": "execute_result"
    }
   ],
   "source": [
    "# Lendo as colunas\n",
    "\n",
    "df.columns"
   ]
  },
  {
   "cell_type": "code",
   "execution_count": null,
   "metadata": {},
   "outputs": [],
   "source": []
  },
  {
   "cell_type": "markdown",
   "metadata": {},
   "source": [
    "### Quantos estados há no dataset?"
   ]
  },
  {
   "cell_type": "code",
   "execution_count": 45,
   "metadata": {},
   "outputs": [
    {
     "data": {
      "text/plain": [
       "array(['PR', 'RS', 'SC'], dtype=object)"
      ]
     },
     "execution_count": 45,
     "metadata": {},
     "output_type": "execute_result"
    }
   ],
   "source": [
    "# Mostrar estados organizados de forma alfabética\n",
    "estado = df['estado_residencia'].sort_values().unique()\n",
    "estado"
   ]
  },
  {
   "cell_type": "markdown",
   "metadata": {},
   "source": [
    "### Agrupando as informações requeridas"
   ]
  },
  {
   "cell_type": "code",
   "execution_count": null,
   "metadata": {},
   "outputs": [],
   "source": []
  },
  {
   "cell_type": "code",
   "execution_count": 46,
   "metadata": {},
   "outputs": [
    {
     "data": {
      "text/plain": [
       "estado_residencia\n",
       "PR    648.961294\n",
       "RS    651.105143\n",
       "SC    649.537653\n",
       "Name: pontuacao_credito, dtype: float64"
      ]
     },
     "execution_count": 46,
     "metadata": {},
     "output_type": "execute_result"
    }
   ],
   "source": [
    "# Calculando as médias da pontuação por estado\n",
    "\n",
    "media = df.groupby('estado_residencia')['pontuacao_credito'].mean()\n",
    "media"
   ]
  },
  {
   "cell_type": "code",
   "execution_count": 47,
   "metadata": {},
   "outputs": [
    {
     "data": {
      "text/plain": [
       "estado_residencia\n",
       "PR    650\n",
       "RS    650\n",
       "SC    653\n",
       "Name: pontuacao_credito, dtype: int64"
      ]
     },
     "execution_count": 47,
     "metadata": {},
     "output_type": "execute_result"
    }
   ],
   "source": [
    "# Calculando as medianas da pontuação por estado\n",
    "\n",
    "mediana = df.groupby('estado_residencia')['pontuacao_credito'].median()\n",
    "mediana"
   ]
  },
  {
   "cell_type": "code",
   "execution_count": 48,
   "metadata": {},
   "outputs": [
    {
     "data": {
      "text/plain": [
       "estado_residencia\n",
       "PR    850\n",
       "RS    850\n",
       "SC    850\n",
       "Name: pontuacao_credito, dtype: int64"
      ]
     },
     "execution_count": 48,
     "metadata": {},
     "output_type": "execute_result"
    }
   ],
   "source": [
    "# Calculando as modas da pontuação por estado\n",
    "\n",
    "moda = df.groupby('estado_residencia')['pontuacao_credito'].agg(pd.Series.mode)\n",
    "moda"
   ]
  },
  {
   "cell_type": "code",
   "execution_count": 49,
   "metadata": {},
   "outputs": [
    {
     "data": {
      "text/plain": [
       "estado_residencia\n",
       "PR    98.607186\n",
       "RS    95.136598\n",
       "SC    97.233493\n",
       "Name: pontuacao_credito, dtype: float64"
      ]
     },
     "execution_count": 49,
     "metadata": {},
     "output_type": "execute_result"
    }
   ],
   "source": [
    "# Calculando os desvios da pontuação por estado\n",
    "\n",
    "desvio = df.groupby('estado_residencia')['pontuacao_credito'].std()\n",
    "desvio"
   ]
  },
  {
   "cell_type": "code",
   "execution_count": 50,
   "metadata": {},
   "outputs": [
    {
     "data": {
      "text/plain": [
       "{'PR': {'media': 648.9612940496822,\n",
       "  'mediana': 650,\n",
       "  'moda': 850,\n",
       "  'desvio_padrao': 98.60718591309755},\n",
       " 'RS': {'media': 651.1051428571428,\n",
       "  'mediana': 650,\n",
       "  'moda': 850,\n",
       "  'desvio_padrao': 95.1365984138358},\n",
       " 'SC': {'media': 649.5376527422563,\n",
       "  'mediana': 653,\n",
       "  'moda': 850,\n",
       "  'desvio_padrao': 97.23349279343314}}"
      ]
     },
     "execution_count": 50,
     "metadata": {},
     "output_type": "execute_result"
    }
   ],
   "source": [
    "# Criando um dicioonário para armazenar as informações\n",
    "\n",
    "dic = {}\n",
    "\n",
    "for i in range(len(estado)):\n",
    "    dados = {'media':media[i], 'mediana':mediana[i], 'moda':moda[i], 'desvio_padrao':desvio[i]}\n",
    "    dic.update({estado[i]:dados})\n",
    "\n",
    "dic"
   ]
  },
  {
   "cell_type": "code",
   "execution_count": 51,
   "metadata": {},
   "outputs": [
    {
     "data": {
      "text/html": [
       "<div>\n",
       "<style scoped>\n",
       "    .dataframe tbody tr th:only-of-type {\n",
       "        vertical-align: middle;\n",
       "    }\n",
       "\n",
       "    .dataframe tbody tr th {\n",
       "        vertical-align: top;\n",
       "    }\n",
       "\n",
       "    .dataframe thead th {\n",
       "        text-align: right;\n",
       "    }\n",
       "</style>\n",
       "<table border=\"1\" class=\"dataframe\">\n",
       "  <thead>\n",
       "    <tr style=\"text-align: right;\">\n",
       "      <th></th>\n",
       "      <th>PR</th>\n",
       "      <th>RS</th>\n",
       "      <th>SC</th>\n",
       "    </tr>\n",
       "  </thead>\n",
       "  <tbody>\n",
       "    <tr>\n",
       "      <th>media</th>\n",
       "      <td>648.961294</td>\n",
       "      <td>651.105143</td>\n",
       "      <td>649.537653</td>\n",
       "    </tr>\n",
       "    <tr>\n",
       "      <th>mediana</th>\n",
       "      <td>650.000000</td>\n",
       "      <td>650.000000</td>\n",
       "      <td>653.000000</td>\n",
       "    </tr>\n",
       "    <tr>\n",
       "      <th>moda</th>\n",
       "      <td>850.000000</td>\n",
       "      <td>850.000000</td>\n",
       "      <td>850.000000</td>\n",
       "    </tr>\n",
       "    <tr>\n",
       "      <th>desvio_padrao</th>\n",
       "      <td>98.607186</td>\n",
       "      <td>95.136598</td>\n",
       "      <td>97.233493</td>\n",
       "    </tr>\n",
       "  </tbody>\n",
       "</table>\n",
       "</div>"
      ],
      "text/plain": [
       "                       PR          RS          SC\n",
       "media          648.961294  651.105143  649.537653\n",
       "mediana        650.000000  650.000000  653.000000\n",
       "moda           850.000000  850.000000  850.000000\n",
       "desvio_padrao   98.607186   95.136598   97.233493"
      ]
     },
     "execution_count": 51,
     "metadata": {},
     "output_type": "execute_result"
    }
   ],
   "source": [
    "# Ver o dic em formato de dataframe\n",
    "\n",
    "pd.DataFrame(dic)"
   ]
  },
  {
   "cell_type": "markdown",
   "metadata": {},
   "source": [
    "## Salvando o json"
   ]
  },
  {
   "cell_type": "code",
   "execution_count": 52,
   "metadata": {},
   "outputs": [],
   "source": [
    "# Salvando o json por meio do dataframe\n",
    "\n",
    "pd.DataFrame(dic).to_json('submission.json', orient='columns')"
   ]
  },
  {
   "cell_type": "code",
   "execution_count": null,
   "metadata": {},
   "outputs": [],
   "source": []
  }
 ],
 "metadata": {
  "kernelspec": {
   "display_name": "Python 3",
   "language": "python",
   "name": "python3"
  },
  "language_info": {
   "codemirror_mode": {
    "name": "ipython",
    "version": 3
   },
   "file_extension": ".py",
   "mimetype": "text/x-python",
   "name": "python",
   "nbconvert_exporter": "python",
   "pygments_lexer": "ipython3",
   "version": "3.7.6"
  }
 },
 "nbformat": 4,
 "nbformat_minor": 4
}
